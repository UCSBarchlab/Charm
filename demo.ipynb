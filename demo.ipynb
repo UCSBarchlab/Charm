{
 "cells": [
  {
   "cell_type": "code",
   "execution_count": null,
   "metadata": {},
   "outputs": [
    {
     "data": {
      "text/plain": [
       "linking"
      ]
     },
     "metadata": {},
     "output_type": "display_data"
    },
    {
     "data": {
      "text/plain": [
       "generating callback"
      ]
     },
     "metadata": {},
     "output_type": "display_data"
    },
    {
     "data": {
      "text/plain": [
       "building dependency graph"
      ]
     },
     "metadata": {},
     "output_type": "display_data"
    },
    {
     "data": {
      "text/plain": [
       "solving"
      ]
     },
     "metadata": {},
     "output_type": "display_data"
    },
    {
     "data": {
      "text/plain": [
       "Solving 4.997917534360683% finished"
      ]
     },
     "metadata": {},
     "output_type": "display_data"
    },
    {
     "data": {
      "text/plain": [
       "Solving 9.995835068721366% finished"
      ]
     },
     "metadata": {},
     "output_type": "display_data"
    },
    {
     "data": {
      "text/plain": [
       "Solving 14.993752603082049% finished"
      ]
     },
     "metadata": {},
     "output_type": "display_data"
    },
    {
     "data": {
      "text/plain": [
       "Solving 19.991670137442732% finished"
      ]
     },
     "metadata": {},
     "output_type": "display_data"
    },
    {
     "data": {
      "text/plain": [
       "Solving 24.989587671803417% finished"
      ]
     },
     "metadata": {},
     "output_type": "display_data"
    },
    {
     "data": {
      "text/plain": [
       "Solving 29.987505206164098% finished"
      ]
     },
     "metadata": {},
     "output_type": "display_data"
    },
    {
     "data": {
      "text/plain": [
       "Solving 34.98542274052478% finished"
      ]
     },
     "metadata": {},
     "output_type": "display_data"
    },
    {
     "data": {
      "text/plain": [
       "Solving 39.983340274885464% finished"
      ]
     },
     "metadata": {},
     "output_type": "display_data"
    },
    {
     "data": {
      "text/plain": [
       "Solving 44.981257809246145% finished"
      ]
     },
     "metadata": {},
     "output_type": "display_data"
    }
   ],
   "source": [
    "import Charm/models_charm/dark_silicon_dynamic\n",
    "given amdahl_law, dark_silicon_ratio, dynamic_cmp, perf2area_45nm, perf2power_45nm, perf_scale, power_scale, core_area_scale\n",
    "assume chip_area = 111.0\n",
    "assume thermal_design_power = 125.0\n",
    "assume ref_tech_node = 45\n",
    "assume ref_big_core_performance = range(1, 50, 1)\n",
    "assume ref_small_core_performance = range(1, 50, 1)\n",
    "#assume fraction_parallelism = [1., 0.999, 0.5, 0.]\n",
    "assume fraction_parallelism = [0.999, 0.5]\n",
    "#assume sigma = 1\n",
    "#assume fraction_parallelism = Gauss(0.999, sigma * 0.999, 0, 1)\n",
    "#assume (tech_node, perf_scale_factor, power_scale_factor) = [(45, 1., 1.), (32, Gauss(1.095, sigma * 0.005, 1), Gauss(.685, sigma * 0.025, 0)), (22, Gauss(1.785, sigma * 0.595, 1), Gauss(.53, sigma * .01, 0)), (16, Gauss(2.23, sigma * 0.98, 1), Gauss(0.385, sigma * 0.005, 0)), (11, Gauss(2.735, sigma * 1.435, 1), Gauss(0.27, sigma * 0.02, 0)), (8, Gauss(2.595, sigma * 1.255, 1), Gauss(0.17, sigma * 0.05, 0))]\n",
    "assume (tech_node, perf_scale_factor, power_scale_factor) = [(45, 1., 1.), (32, 1.09, .66), (22, 2.38, .54), (16, 3.21, .38), (11, 4.17, .25), (8, 3.85, .12)]\n",
    "explore speedup, dark_ratio, core_num\n",
    "plot speedup against ref_big_core_performance,ref_small_core_performance as scatter where:\n",
    "\tfraction_parallelism=[0.999]\n",
    "\ttech_node=[45,32,22]"
   ]
  },
  {
   "cell_type": "code",
   "execution_count": null,
   "metadata": {},
   "outputs": [],
   "source": []
  }
 ],
 "metadata": {
  "kernelspec": {
   "display_name": "Charm",
   "language": "python",
   "name": "charm"
  },
  "language_info": {
   "file_extension": ".charm",
   "mimetype": "text/plain",
   "name": "Charm"
  }
 },
 "nbformat": 4,
 "nbformat_minor": 2
}
